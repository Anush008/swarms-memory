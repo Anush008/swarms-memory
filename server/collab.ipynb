{
 "cells": [
  {
   "cell_type": "code",
   "execution_count": 1,
   "metadata": {},
   "outputs": [
    {
     "name": "stdout",
     "output_type": "stream",
     "text": [
      "Status Code: 200\n",
      "Response JSON: {'message': \"Collection 'my_collection' created successfully.\"}\n"
     ]
    }
   ],
   "source": [
    "# Create a config\n",
    "import requests\n",
    "\n",
    "url = \"http://127.0.0.1:8000/collections\"\n",
    "\n",
    "data = {\n",
    "    \"name\": \"my_collection\"\n",
    "}\n",
    "\n",
    "response = requests.post(url, json=data)\n",
    "\n",
    "print(\"Status Code:\", response.status_code)\n",
    "print(\"Response JSON:\", response.json())\n"
   ]
  },
  {
   "cell_type": "code",
   "execution_count": 3,
   "metadata": {},
   "outputs": [
    {
     "name": "stdout",
     "output_type": "stream",
     "text": [
      "Status Code: 200\n",
      "Response JSON: {'message': 'Documents added successfully to collection my_collection.', 'ids': ['512d881c-8362-4a55-97e4-7436167537fb', '38d0c12f-dbf9-4c68-81a5-c748dfdd3c0c']}\n"
     ]
    }
   ],
   "source": [
    "import requests\n",
    "\n",
    "collection_id = \"my_collection\"  # Replace with the actual collection ID\n",
    "\n",
    "url = f\"http://127.0.0.1:8000/collections/{collection_id}/documents\"\n",
    "data = {\n",
    "    \"documents\": [\n",
    "        \"This is a document about pineapples\",\n",
    "        \"This is a document about oranges\"\n",
    "    ],\n",
    "}\n",
    "\n",
    "response = requests.post(url, json=data)\n",
    "\n",
    "print(\"Status Code:\", response.status_code)\n",
    "print(\"Response JSON:\", response.json())\n"
   ]
  },
  {
   "cell_type": "code",
   "execution_count": 4,
   "metadata": {},
   "outputs": [
    {
     "name": "stdout",
     "output_type": "stream",
     "text": [
      "Status Code: 200\n",
      "Response JSON: {'ids': [['512d881c-8362-4a55-97e4-7436167537fb', '38d0c12f-dbf9-4c68-81a5-c748dfdd3c0c']], 'distances': [[1.0590863227844238, 1.2430635690689087]], 'metadatas': [[None, None]], 'embeddings': None, 'documents': [['This is a document about pineapples', 'This is a document about oranges']], 'uris': None, 'data': None, 'included': ['metadatas', 'documents', 'distances']}\n"
     ]
    }
   ],
   "source": [
    "import requests\n",
    "\n",
    "collection_id = \"my_collection\"  # Replace with the actual collection ID\n",
    "\n",
    "url = f\"http://127.0.0.1:8000/collections/{collection_id}/documents\"\n",
    "data = {\n",
    "    \"query_texts\": [\"This is a query document about Hawaii\"],\n",
    "    \"n_results\": 2\n",
    "}\n",
    "\n",
    "response = requests.get(url, json=data)\n",
    "\n",
    "print(\"Status Code:\", response.status_code)\n",
    "print(\"Response JSON:\", response.json())"
   ]
  },
  {
   "cell_type": "code",
   "execution_count": 5,
   "metadata": {},
   "outputs": [
    {
     "name": "stdout",
     "output_type": "stream",
     "text": [
      "Status Code: 200\n",
      "Response JSON: {'message': 'Document your_document_id_here deleted successfully from collection my_collection.'}\n"
     ]
    }
   ],
   "source": [
    "import requests\n",
    "\n",
    "collection_id = \"my_collection\"  # Replace with the actual collection ID\n",
    "\n",
    "document_id = \"your_document_id_here\"  # Replace with the actual document ID\n",
    "url = f\"http://127.0.0.1:8000/collections/{collection_id}/documents/{document_id}\"\n",
    "\n",
    "response = requests.delete(url)\n",
    "\n",
    "print(\"Status Code:\", response.status_code)\n",
    "print(\"Response JSON:\", response.json())\n"
   ]
  },
  {
   "cell_type": "markdown",
   "metadata": {},
   "source": []
  }
 ],
 "metadata": {
  "kernelspec": {
   "display_name": "Python 3",
   "language": "python",
   "name": "python3"
  },
  "language_info": {
   "codemirror_mode": {
    "name": "ipython",
    "version": 3
   },
   "file_extension": ".py",
   "mimetype": "text/x-python",
   "name": "python",
   "nbconvert_exporter": "python",
   "pygments_lexer": "ipython3",
   "version": "3.12.3"
  }
 },
 "nbformat": 4,
 "nbformat_minor": 2
}
